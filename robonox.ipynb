{
  "cells": [
    {
      "cell_type": "markdown",
      "metadata": {
        "id": "view-in-github",
        "colab_type": "text"
      },
      "source": [
        "<a href=\"https://colab.research.google.com/github/mdsaifin/BestOutOfWaste/blob/main/robonox.ipynb\" target=\"_parent\"><img src=\"https://colab.research.google.com/assets/colab-badge.svg\" alt=\"Open In Colab\"/></a>"
      ]
    },
    {
      "cell_type": "code",
      "source": [
        "# Project Name: Electronic Component detection using Machine learning Algorithm\n",
        "# Developed by: MD SAIF\n",
        "# For the Competition named \"Best out of Waste\" of Robonox Club at NIT Srinagar\n",
        "# Dated: 19th to 25th March 2023\n",
        "# Dataset link: https://drive.google.com/drive/folders/1cHvF_RfXRIOXUojGf6p_hNagjx1OwEwc?usp=sharing"
      ],
      "metadata": {
        "id": "sZYHaIwCuotb"
      },
      "execution_count": 20,
      "outputs": []
    },
    {
      "cell_type": "code",
      "execution_count": 2,
      "metadata": {
        "id": "1qCbPi5NyKQu"
      },
      "outputs": [],
      "source": [
        "import os\n",
        "import numpy as np\n",
        "from keras.applications import VGG16\n",
        "from PIL import Image\n",
        "from sklearn.preprocessing import LabelEncoder\n",
        "from sklearn.model_selection import train_test_split\n",
        "from sklearn.svm import SVC\n",
        "from sklearn.metrics import classification_report, confusion_matrix"
      ]
    },
    {
      "cell_type": "code",
      "execution_count": 3,
      "metadata": {
        "colab": {
          "base_uri": "https://localhost:8080/"
        },
        "id": "NaInuDMFNkdh",
        "outputId": "dd678570-5d8e-4602-8eb5-65b8a487bb62"
      },
      "outputs": [
        {
          "output_type": "stream",
          "name": "stdout",
          "text": [
            "mkdir: cannot create directory ‘command’: File exists\n",
            "mkdir: cannot create directory ‘command’: File exists\n",
            "mkdir: cannot create directory ‘command’: File exists\n",
            "mkdir: cannot create directory ‘command’: File exists\n"
          ]
        }
      ],
      "source": [
        "!mkdir resistor_images command\n",
        "!mkdir capacitor_images command\n",
        "!mkdir diode_images command\n",
        "!mkdir transistor_images command\n",
        "!mkdir IC_images command"
      ]
    },
    {
      "cell_type": "code",
      "execution_count": 4,
      "metadata": {
        "id": "wUeY2TW6NWBl"
      },
      "outputs": [],
      "source": [
        "# Path to directory containing the component images\n",
        "data_path_resistor = \"resistor_images\"\n",
        "data_path_capacitor = \"capacitor_images\"\n",
        "data_path_diode = \"diode_images\"\n",
        "data_path_transistor = \"transistor_images\"\n",
        "data_path_IC = \"IC_images\""
      ]
    },
    {
      "cell_type": "code",
      "execution_count": 5,
      "metadata": {
        "id": "0CkiUeUXPHa-"
      },
      "outputs": [],
      "source": [
        "# Load resistor images and labels\n",
        "resistor_images = []\n",
        "resistor_labels = []\n",
        "for filename in os.listdir(data_path_resistor):\n",
        "    if filename.endswith(\".jpg\"):\n",
        "        img = Image.open(os.path.join(data_path_resistor, filename))\n",
        "        img = img.resize((224, 224))\n",
        "        resistor_images.append(np.array(img))\n",
        "        resistor_labels.append(\"resistor\")"
      ]
    },
    {
      "cell_type": "code",
      "execution_count": 6,
      "metadata": {
        "id": "DDAwxheMPMjr"
      },
      "outputs": [],
      "source": [
        "# Load capacitor images and labels\n",
        "capacitor_images = []\n",
        "capacitor_labels = []\n",
        "for filename in os.listdir(data_path_capacitor):\n",
        "    if filename.endswith(\".jpg\"):\n",
        "        img = Image.open(os.path.join(data_path_capacitor, filename))\n",
        "        img = img.resize((224, 224))\n",
        "        capacitor_images.append(np.array(img))\n",
        "        capacitor_labels.append(\"capacitor\")"
      ]
    },
    {
      "cell_type": "code",
      "execution_count": 7,
      "metadata": {
        "id": "oFLoQliFmnyS"
      },
      "outputs": [],
      "source": [
        "# Load diode images and labels\n",
        "diode_images = []\n",
        "diode_labels = []\n",
        "for filename in os.listdir(data_path_diode):\n",
        "    if filename.endswith(\".jpg\"):\n",
        "        img = Image.open(os.path.join(data_path_diode, filename))\n",
        "        img = img.resize((224, 224))\n",
        "        diode_images.append(np.array(img))\n",
        "        diode_labels.append(\"diode\")"
      ]
    },
    {
      "cell_type": "code",
      "execution_count": 8,
      "metadata": {
        "id": "xjVnUK2rnBrt"
      },
      "outputs": [],
      "source": [
        "# Load transistor images and labels\n",
        "transistor_images = []\n",
        "transistor_labels = []\n",
        "for filename in os.listdir(data_path_transistor):\n",
        "    if filename.endswith(\".jpg\"):\n",
        "        img = Image.open(os.path.join(data_path_transistor, filename))\n",
        "        img = img.resize((224, 224))\n",
        "        transistor_images.append(np.array(img))\n",
        "        transistor_labels.append(\"transistor\")"
      ]
    },
    {
      "cell_type": "code",
      "execution_count": 9,
      "metadata": {
        "id": "2GkoU6OUnTsR"
      },
      "outputs": [],
      "source": [
        "# Load IC images and labels\n",
        "IC_images = []\n",
        "IC_labels = []\n",
        "for filename in os.listdir(data_path_IC):\n",
        "    if filename.endswith(\".jpg\"):\n",
        "        img = Image.open(os.path.join(data_path_IC, filename))\n",
        "        img = img.resize((224, 224))\n",
        "        IC_images.append(np.array(img))\n",
        "        IC_labels.append(\"IC\")"
      ]
    },
    {
      "cell_type": "code",
      "execution_count": 10,
      "metadata": {
        "id": "otu8i2vHPOcc"
      },
      "outputs": [],
      "source": [
        "# Combine images and labels\n",
        "images = np.concatenate((resistor_images, capacitor_images, diode_images, transistor_images, IC_images))\n",
        "labels = np.concatenate((resistor_labels, capacitor_labels, diode_labels, transistor_labels, IC_labels))"
      ]
    },
    {
      "cell_type": "code",
      "execution_count": 11,
      "metadata": {
        "id": "pnMEdaFoPQtZ"
      },
      "outputs": [],
      "source": [
        "# Encode labels\n",
        "le = LabelEncoder()\n",
        "labels_encoded = le.fit_transform(labels)"
      ]
    },
    {
      "cell_type": "code",
      "execution_count": 12,
      "metadata": {
        "id": "DrTP5CYnPWsZ"
      },
      "outputs": [],
      "source": [
        "# Split data into training and testing sets\n",
        "X_train, X_test, y_train, y_test = train_test_split(images, labels_encoded, test_size=0.2, random_state=42)"
      ]
    },
    {
      "cell_type": "code",
      "execution_count": 13,
      "metadata": {
        "colab": {
          "base_uri": "https://localhost:8080/"
        },
        "id": "e6DjXH3OPYve",
        "outputId": "bd0a4f48-8ef1-43fe-c227-0fa33abc5f8f"
      },
      "outputs": [
        {
          "output_type": "stream",
          "name": "stdout",
          "text": [
            "Downloading data from https://storage.googleapis.com/tensorflow/keras-applications/vgg16/vgg16_weights_tf_dim_ordering_tf_kernels_notop.h5\n",
            "58889256/58889256 [==============================] - 0s 0us/step\n"
          ]
        }
      ],
      "source": [
        "# Load pre-trained VGG16 model\n",
        "vgg = VGG16(weights='imagenet', include_top=False, input_shape=(224, 224, 3))"
      ]
    },
    {
      "cell_type": "code",
      "execution_count": 14,
      "metadata": {
        "colab": {
          "base_uri": "https://localhost:8080/"
        },
        "id": "-nDLL8QbPbCW",
        "outputId": "fe6565ff-ca04-4501-98e5-d0a9f6d5f588"
      },
      "outputs": [
        {
          "output_type": "stream",
          "name": "stdout",
          "text": [
            "7/7 [==============================] - 143s 21s/step\n",
            "2/2 [==============================] - 32s 14s/step\n"
          ]
        }
      ],
      "source": [
        "# Extract features from images using VGG16\n",
        "X_train = vgg.predict(np.array(X_train))\n",
        "X_test = vgg.predict(np.array(X_test))\n",
        "n_samples_train = X_train.shape[0]\n",
        "n_samples_test = X_test.shape[0]\n",
        "X_train = X_train.reshape(n_samples_train, -1)\n",
        "X_test = X_test.reshape(n_samples_test, -1)"
      ]
    },
    {
      "cell_type": "code",
      "execution_count": 15,
      "metadata": {
        "colab": {
          "base_uri": "https://localhost:8080/",
          "height": 74
        },
        "id": "hKjW0RdJPd4U",
        "outputId": "b5e4e0d6-4b14-4ca1-9a00-3988067ea7ba"
      },
      "outputs": [
        {
          "output_type": "execute_result",
          "data": {
            "text/plain": [
              "SVC(C=1, kernel='linear', probability=True)"
            ],
            "text/html": [
              "<style>#sk-container-id-1 {color: black;background-color: white;}#sk-container-id-1 pre{padding: 0;}#sk-container-id-1 div.sk-toggleable {background-color: white;}#sk-container-id-1 label.sk-toggleable__label {cursor: pointer;display: block;width: 100%;margin-bottom: 0;padding: 0.3em;box-sizing: border-box;text-align: center;}#sk-container-id-1 label.sk-toggleable__label-arrow:before {content: \"▸\";float: left;margin-right: 0.25em;color: #696969;}#sk-container-id-1 label.sk-toggleable__label-arrow:hover:before {color: black;}#sk-container-id-1 div.sk-estimator:hover label.sk-toggleable__label-arrow:before {color: black;}#sk-container-id-1 div.sk-toggleable__content {max-height: 0;max-width: 0;overflow: hidden;text-align: left;background-color: #f0f8ff;}#sk-container-id-1 div.sk-toggleable__content pre {margin: 0.2em;color: black;border-radius: 0.25em;background-color: #f0f8ff;}#sk-container-id-1 input.sk-toggleable__control:checked~div.sk-toggleable__content {max-height: 200px;max-width: 100%;overflow: auto;}#sk-container-id-1 input.sk-toggleable__control:checked~label.sk-toggleable__label-arrow:before {content: \"▾\";}#sk-container-id-1 div.sk-estimator input.sk-toggleable__control:checked~label.sk-toggleable__label {background-color: #d4ebff;}#sk-container-id-1 div.sk-label input.sk-toggleable__control:checked~label.sk-toggleable__label {background-color: #d4ebff;}#sk-container-id-1 input.sk-hidden--visually {border: 0;clip: rect(1px 1px 1px 1px);clip: rect(1px, 1px, 1px, 1px);height: 1px;margin: -1px;overflow: hidden;padding: 0;position: absolute;width: 1px;}#sk-container-id-1 div.sk-estimator {font-family: monospace;background-color: #f0f8ff;border: 1px dotted black;border-radius: 0.25em;box-sizing: border-box;margin-bottom: 0.5em;}#sk-container-id-1 div.sk-estimator:hover {background-color: #d4ebff;}#sk-container-id-1 div.sk-parallel-item::after {content: \"\";width: 100%;border-bottom: 1px solid gray;flex-grow: 1;}#sk-container-id-1 div.sk-label:hover label.sk-toggleable__label {background-color: #d4ebff;}#sk-container-id-1 div.sk-serial::before {content: \"\";position: absolute;border-left: 1px solid gray;box-sizing: border-box;top: 0;bottom: 0;left: 50%;z-index: 0;}#sk-container-id-1 div.sk-serial {display: flex;flex-direction: column;align-items: center;background-color: white;padding-right: 0.2em;padding-left: 0.2em;position: relative;}#sk-container-id-1 div.sk-item {position: relative;z-index: 1;}#sk-container-id-1 div.sk-parallel {display: flex;align-items: stretch;justify-content: center;background-color: white;position: relative;}#sk-container-id-1 div.sk-item::before, #sk-container-id-1 div.sk-parallel-item::before {content: \"\";position: absolute;border-left: 1px solid gray;box-sizing: border-box;top: 0;bottom: 0;left: 50%;z-index: -1;}#sk-container-id-1 div.sk-parallel-item {display: flex;flex-direction: column;z-index: 1;position: relative;background-color: white;}#sk-container-id-1 div.sk-parallel-item:first-child::after {align-self: flex-end;width: 50%;}#sk-container-id-1 div.sk-parallel-item:last-child::after {align-self: flex-start;width: 50%;}#sk-container-id-1 div.sk-parallel-item:only-child::after {width: 0;}#sk-container-id-1 div.sk-dashed-wrapped {border: 1px dashed gray;margin: 0 0.4em 0.5em 0.4em;box-sizing: border-box;padding-bottom: 0.4em;background-color: white;}#sk-container-id-1 div.sk-label label {font-family: monospace;font-weight: bold;display: inline-block;line-height: 1.2em;}#sk-container-id-1 div.sk-label-container {text-align: center;}#sk-container-id-1 div.sk-container {/* jupyter's `normalize.less` sets `[hidden] { display: none; }` but bootstrap.min.css set `[hidden] { display: none !important; }` so we also need the `!important` here to be able to override the default hidden behavior on the sphinx rendered scikit-learn.org. See: https://github.com/scikit-learn/scikit-learn/issues/21755 */display: inline-block !important;position: relative;}#sk-container-id-1 div.sk-text-repr-fallback {display: none;}</style><div id=\"sk-container-id-1\" class=\"sk-top-container\"><div class=\"sk-text-repr-fallback\"><pre>SVC(C=1, kernel=&#x27;linear&#x27;, probability=True)</pre><b>In a Jupyter environment, please rerun this cell to show the HTML representation or trust the notebook. <br />On GitHub, the HTML representation is unable to render, please try loading this page with nbviewer.org.</b></div><div class=\"sk-container\" hidden><div class=\"sk-item\"><div class=\"sk-estimator sk-toggleable\"><input class=\"sk-toggleable__control sk-hidden--visually\" id=\"sk-estimator-id-1\" type=\"checkbox\" checked><label for=\"sk-estimator-id-1\" class=\"sk-toggleable__label sk-toggleable__label-arrow\">SVC</label><div class=\"sk-toggleable__content\"><pre>SVC(C=1, kernel=&#x27;linear&#x27;, probability=True)</pre></div></div></div></div></div>"
            ]
          },
          "metadata": {},
          "execution_count": 15
        }
      ],
      "source": [
        "# Train SVM model\n",
        "svc = SVC(kernel='linear', C=1, probability=True)\n",
        "svc.fit(X_train, y_train)"
      ]
    },
    {
      "cell_type": "code",
      "execution_count": 16,
      "metadata": {
        "colab": {
          "base_uri": "https://localhost:8080/"
        },
        "id": "E7YZYNNzYMAC",
        "outputId": "2e1d2f5c-d8ab-4064-c80f-42b14e4676d6"
      },
      "outputs": [
        {
          "output_type": "stream",
          "name": "stdout",
          "text": [
            "              precision    recall  f1-score   support\n",
            "\n",
            "           0       1.00      1.00      1.00         7\n",
            "           1       0.97      1.00      0.98        28\n",
            "           2       1.00      1.00      1.00         2\n",
            "           3       1.00      1.00      1.00        12\n",
            "           4       1.00      0.83      0.91         6\n",
            "\n",
            "    accuracy                           0.98        55\n",
            "   macro avg       0.99      0.97      0.98        55\n",
            "weighted avg       0.98      0.98      0.98        55\n",
            "\n",
            "[[ 7  0  0  0  0]\n",
            " [ 0 28  0  0  0]\n",
            " [ 0  0  2  0  0]\n",
            " [ 0  0  0 12  0]\n",
            " [ 0  1  0  0  5]]\n"
          ]
        }
      ],
      "source": [
        "# Evaluate model\n",
        "y_pred = svc.predict(X_test)\n",
        "print(classification_report(y_test, y_pred))\n",
        "print(confusion_matrix(y_test, y_pred))"
      ]
    },
    {
      "cell_type": "code",
      "execution_count": 17,
      "metadata": {
        "colab": {
          "base_uri": "https://localhost:8080/"
        },
        "id": "D3ruDA0BaVBY",
        "outputId": "16535960-37ba-41ce-d209-b5ec903abf17"
      },
      "outputs": [
        {
          "output_type": "stream",
          "name": "stdout",
          "text": [
            "1/1 [==============================] - 1s 997ms/step\n"
          ]
        }
      ],
      "source": [
        "# Load image to test model\n",
        "test_image = Image.open(\"test_r.jpg\")\n",
        "test_image = test_image.resize((224, 224))\n",
        "test_image = np.array(test_image)\n",
        "test_image = vgg.predict(np.array([test_image]))\n",
        "n_samples_test = test_image.shape[0]\n",
        "test_image = test_image.reshape(n_samples_test, -1)"
      ]
    },
    {
      "cell_type": "code",
      "execution_count": 18,
      "metadata": {
        "id": "pjSnCAlxaX_U"
      },
      "outputs": [],
      "source": [
        "# Predict label of test image\n",
        "pred_label = le.inverse_transform(svc.predict(test_image))[0]"
      ]
    },
    {
      "cell_type": "code",
      "execution_count": 19,
      "metadata": {
        "colab": {
          "base_uri": "https://localhost:8080/"
        },
        "id": "v-CwWfeQayQ7",
        "outputId": "d1d74524-8f86-4741-caca-9268d1b8ce59"
      },
      "outputs": [
        {
          "output_type": "stream",
          "name": "stdout",
          "text": [
            "The component is resistor\n"
          ]
        }
      ],
      "source": [
        "# Output result\n",
        "if pred_label == \"resistor\":\n",
        "    print(\"The component is resistor\")\n",
        "elif pred_label == \"capacitor\":\n",
        "    print(\"The component is capacitor\")\n",
        "elif pred_label == \"diode\":\n",
        "    print(\"The component is diode\")\n",
        "elif pred_label == \"transistor\":\n",
        "    print(\"The component is transistor\")\n",
        "elif pred_label == \"IC\":\n",
        "    print(\"The component is IC\")    \n",
        "else:\n",
        "    print(\"Unknown component\")"
      ]
    }
  ],
  "metadata": {
    "colab": {
      "provenance": [],
      "authorship_tag": "ABX9TyNLorhzRx2Zp6f5xJAao0VI",
      "include_colab_link": true
    },
    "kernelspec": {
      "display_name": "Python 3",
      "name": "python3"
    },
    "language_info": {
      "name": "python"
    }
  },
  "nbformat": 4,
  "nbformat_minor": 0
}